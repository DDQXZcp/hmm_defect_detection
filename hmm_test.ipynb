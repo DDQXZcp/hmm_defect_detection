{
 "cells": [
  {
   "cell_type": "code",
   "execution_count": 3,
   "metadata": {},
   "outputs": [],
   "source": [
    "import numpy as np\n",
    "from hmmlearn import hmm\n",
    "\n",
    "states = [\"box 1\", \"box 2\", \"box3\"]\n",
    "n_states = len(states)\n",
    "\n",
    "observations = [\"red\", \"white\"]\n",
    "n_observations = len(observations)\n",
    "\n",
    "start_probability = np.array([0.2, 0.4, 0.4])\n",
    "\n",
    "transition_probability = np.array([\n",
    "  [0.5, 0.2, 0.3],\n",
    "  [0.3, 0.5, 0.2],\n",
    "  [0.2, 0.3, 0.5]\n",
    "])\n",
    "\n",
    "emission_probability = np.array([\n",
    "  [0.5, 0.5],\n",
    "  [0.4, 0.6],\n",
    "  [0.7, 0.3]\n",
    "])\n",
    "\n",
    "model = hmm.MultinomialHMM(n_components=n_states)\n",
    "model.startprob_=start_probability\n",
    "model.transmat_=transition_probability\n",
    "model.emissionprob_=emission_probability"
   ]
  },
  {
   "cell_type": "code",
   "execution_count": 28,
   "metadata": {},
   "outputs": [
    {
     "name": "stdout",
     "output_type": "stream",
     "text": [
      "seen= [[0]\n",
      " [1]\n",
      " [0]]\n",
      "seen= [0 1 0]\n",
      "box= [2 2 2]\n",
      "The hidden box box3, box3, box3\n",
      "The ball picked: red, white, red\n"
     ]
    }
   ],
   "source": [
    "seen = np.array([[0,1,0]]).T\n",
    "print('seen=',seen)\n",
    "print('seen=',seen.flatten())\n",
    "logprob, box = model.decode(seen, algorithm=\"viterbi\")\n",
    "print('box=',box)\n",
    "print(\"The hidden box\", \", \".join(map(lambda x: states[x], box)))\n",
    "print(\"The ball picked:\", \", \".join(map(lambda x: observations[x], seen.flatten())))"
   ]
  },
  {
   "cell_type": "code",
   "execution_count": 17,
   "metadata": {},
   "outputs": [
    {
     "ename": "TypeError",
     "evalue": "only integer scalar arrays can be converted to a scalar index",
     "output_type": "error",
     "traceback": [
      "\u001b[1;31m---------------------------------------------------------------------------\u001b[0m",
      "\u001b[1;31mTypeError\u001b[0m                                 Traceback (most recent call last)",
      "\u001b[1;32m<ipython-input-17-c626fbd00083>\u001b[0m in \u001b[0;36m<module>\u001b[1;34m\u001b[0m\n\u001b[0;32m      1\u001b[0m \u001b[0mseen\u001b[0m \u001b[1;33m=\u001b[0m \u001b[0mnp\u001b[0m\u001b[1;33m.\u001b[0m\u001b[0marray\u001b[0m\u001b[1;33m(\u001b[0m\u001b[1;33m[\u001b[0m\u001b[1;33m[\u001b[0m\u001b[1;36m0\u001b[0m\u001b[1;33m,\u001b[0m\u001b[1;36m1\u001b[0m\u001b[1;33m,\u001b[0m\u001b[1;36m0\u001b[0m\u001b[1;33m]\u001b[0m\u001b[1;33m]\u001b[0m\u001b[1;33m)\u001b[0m\u001b[1;33m.\u001b[0m\u001b[0mT\u001b[0m\u001b[1;33m\u001b[0m\u001b[1;33m\u001b[0m\u001b[0m\n\u001b[0;32m      2\u001b[0m \u001b[0mst\u001b[0m \u001b[1;33m=\u001b[0m \u001b[1;34m\"-\"\u001b[0m\u001b[1;33m\u001b[0m\u001b[1;33m\u001b[0m\u001b[0m\n\u001b[1;32m----> 3\u001b[1;33m \u001b[0mprint\u001b[0m\u001b[1;33m(\u001b[0m\u001b[0mst\u001b[0m\u001b[1;33m.\u001b[0m\u001b[0mjoin\u001b[0m\u001b[1;33m(\u001b[0m\u001b[0mmap\u001b[0m\u001b[1;33m(\u001b[0m\u001b[1;32mlambda\u001b[0m \u001b[0mx\u001b[0m\u001b[1;33m:\u001b[0m \u001b[0mobservations\u001b[0m\u001b[1;33m[\u001b[0m\u001b[0mx\u001b[0m\u001b[1;33m]\u001b[0m\u001b[1;33m,\u001b[0m \u001b[0mseen\u001b[0m\u001b[1;33m)\u001b[0m\u001b[1;33m)\u001b[0m\u001b[1;33m)\u001b[0m\u001b[1;33m\u001b[0m\u001b[1;33m\u001b[0m\u001b[0m\n\u001b[0m",
      "\u001b[1;32m<ipython-input-17-c626fbd00083>\u001b[0m in \u001b[0;36m<lambda>\u001b[1;34m(x)\u001b[0m\n\u001b[0;32m      1\u001b[0m \u001b[0mseen\u001b[0m \u001b[1;33m=\u001b[0m \u001b[0mnp\u001b[0m\u001b[1;33m.\u001b[0m\u001b[0marray\u001b[0m\u001b[1;33m(\u001b[0m\u001b[1;33m[\u001b[0m\u001b[1;33m[\u001b[0m\u001b[1;36m0\u001b[0m\u001b[1;33m,\u001b[0m\u001b[1;36m1\u001b[0m\u001b[1;33m,\u001b[0m\u001b[1;36m0\u001b[0m\u001b[1;33m]\u001b[0m\u001b[1;33m]\u001b[0m\u001b[1;33m)\u001b[0m\u001b[1;33m.\u001b[0m\u001b[0mT\u001b[0m\u001b[1;33m\u001b[0m\u001b[1;33m\u001b[0m\u001b[0m\n\u001b[0;32m      2\u001b[0m \u001b[0mst\u001b[0m \u001b[1;33m=\u001b[0m \u001b[1;34m\"-\"\u001b[0m\u001b[1;33m\u001b[0m\u001b[1;33m\u001b[0m\u001b[0m\n\u001b[1;32m----> 3\u001b[1;33m \u001b[0mprint\u001b[0m\u001b[1;33m(\u001b[0m\u001b[0mst\u001b[0m\u001b[1;33m.\u001b[0m\u001b[0mjoin\u001b[0m\u001b[1;33m(\u001b[0m\u001b[0mmap\u001b[0m\u001b[1;33m(\u001b[0m\u001b[1;32mlambda\u001b[0m \u001b[0mx\u001b[0m\u001b[1;33m:\u001b[0m \u001b[0mobservations\u001b[0m\u001b[1;33m[\u001b[0m\u001b[0mx\u001b[0m\u001b[1;33m]\u001b[0m\u001b[1;33m,\u001b[0m \u001b[0mseen\u001b[0m\u001b[1;33m)\u001b[0m\u001b[1;33m)\u001b[0m\u001b[1;33m)\u001b[0m\u001b[1;33m\u001b[0m\u001b[1;33m\u001b[0m\u001b[0m\n\u001b[0m",
      "\u001b[1;31mTypeError\u001b[0m: only integer scalar arrays can be converted to a scalar index"
     ]
    }
   ],
   "source": [
    "seen = np.array([[0,1,0]]).T\n",
    "st = \"-\"\n",
    "print(st.join(map(lambda x: observations[x], seen)))"
   ]
  },
  {
   "cell_type": "code",
   "execution_count": null,
   "metadata": {},
   "outputs": [],
   "source": [
    "import cv2\n",
    "imread"
   ]
  },
  {
   "cell_type": "code",
   "execution_count": null,
   "metadata": {},
   "outputs": [],
   "source": [
    "def compute_value():\n",
    "    # Contain HMM"
   ]
  },
  {
   "cell_type": "code",
   "execution_count": 29,
   "metadata": {},
   "outputs": [
    {
     "ename": "SyntaxError",
     "evalue": "invalid syntax (<ipython-input-29-9e2a202f65a1>, line 2)",
     "output_type": "error",
     "traceback": [
      "\u001b[1;36m  File \u001b[1;32m\"<ipython-input-29-9e2a202f65a1>\"\u001b[1;36m, line \u001b[1;32m2\u001b[0m\n\u001b[1;33m    length =\u001b[0m\n\u001b[1;37m             ^\u001b[0m\n\u001b[1;31mSyntaxError\u001b[0m\u001b[1;31m:\u001b[0m invalid syntax\n"
     ]
    }
   ],
   "source": [
    "def leave_one_out(sequence):\n",
    "    length = \n",
    "    for i in range(0,length):\n",
    "        compute_value()\n",
    "        \n",
    "    \n",
    "    # compute the likelihood that the pixel is normal\n",
    "    \n",
    "    # identify if the center value is higher than other one\n",
    "sequence = np.array([1,2,3])"
   ]
  },
  {
   "cell_type": "markdown",
   "metadata": {},
   "source": [
    "# 鲍姆-韦尔奇算法"
   ]
  },
  {
   "cell_type": "code",
   "execution_count": 120,
   "metadata": {},
   "outputs": [
    {
     "name": "stdout",
     "output_type": "stream",
     "text": [
      "startprob_= [1.60219567e-37 4.68811158e-58 1.00000000e+00]\n",
      "transmat_= [[9.54138634e-14 1.08915343e-36 1.00000000e+00]\n",
      " [3.42993417e-01 6.57006583e-01 4.57450682e-18]\n",
      " [1.96579157e-02 9.81225985e-02 8.82219486e-01]]\n",
      "emissionprob= [[8.71706962e-06 1.74785800e-19 1.02824668e-16 0.00000000e+00\n",
      "  6.85039067e-06 9.99984433e-01]\n",
      " [2.93875064e-01 7.06124925e-01 1.09299173e-08 0.00000000e+00\n",
      "  2.03492140e-41 5.99323243e-27]\n",
      " [8.81043795e-01 1.75154306e-16 3.84415051e-02 0.00000000e+00\n",
      "  7.68822509e-02 3.63244905e-03]]\n",
      "score= -28.44481854722252\n"
     ]
    }
   ],
   "source": [
    "import numpy as np\n",
    "from hmmlearn import hmm\n",
    "\n",
    "# hidden state\n",
    "states = [\"box 1\", \"box 2\", \"box3\"]\n",
    "n_states = len(states)\n",
    "\n",
    "# observed\n",
    "observations = [\"O1\", \"O2\", \"O3\", \"O4\", \"O5\", \"O6\", \"O7\"]\n",
    "n_observations = len(observations)\n",
    "\n",
    "\n",
    "\n",
    "model2 = hmm.MultinomialHMM(n_components=n_states, n_iter=1000, tol=0.01)\n",
    "X2 = np.array([[0,0,0,0],[0,0,0,0],[1,1,1,1],[5,0,0,0],[0,0,0,0],[2,0,1,0],[5,4,0,0],[5,0,0,0],[4,0,0,0]]) # Training data set, observed\n",
    "model2.fit(X2)\n",
    "print ('startprob_=',model2.startprob_)\n",
    "print ('transmat_=',model2.transmat_)\n",
    "print ('emissionprob=',model2.emissionprob_)\n",
    "print ('score=',model2.score(X2))\n",
    "\n"
   ]
  },
  {
   "cell_type": "markdown",
   "metadata": {},
   "source": [
    "# 鲍姆-韦尔奇算法 验算"
   ]
  },
  {
   "cell_type": "code",
   "execution_count": 121,
   "metadata": {},
   "outputs": [
    {
     "name": "stdout",
     "output_type": "stream",
     "text": [
      "startprob_= [1.60219567e-37 4.68811158e-58 1.00000000e+00]\n",
      "transmat_= [[9.54138634e-14 1.08915343e-36 1.00000000e+00]\n",
      " [3.42993417e-01 6.57006583e-01 4.57450682e-18]\n",
      " [1.96579157e-02 9.81225985e-02 8.82219486e-01]]\n",
      "emissionprob= [[8.71706962e-06 1.74785800e-19 1.02824668e-16 0.00000000e+00\n",
      "  6.85039067e-06 9.99984433e-01]\n",
      " [2.93875064e-01 7.06124925e-01 1.09299173e-08 0.00000000e+00\n",
      "  2.03492140e-41 5.99323243e-27]\n",
      " [8.81043795e-01 1.75154306e-16 3.84415051e-02 0.00000000e+00\n",
      "  7.68822509e-02 3.63244905e-03]]\n",
      "score= -28.44481854722252\n"
     ]
    }
   ],
   "source": [
    "print ('startprob_=',model2.startprob_)\n",
    "print ('transmat_=',model2.transmat_)\n",
    "print ('emissionprob=',model2.emissionprob_)\n",
    "print ('score=',model2.score(X2))\n",
    "\n",
    "model = hmm.MultinomialHMM(n_components=n_states)\n",
    "model.startprob_=model2.startprob_\n",
    "model.transmat_=model2.transmat_\n",
    "model.emissionprob_=model2.emissionprob_"
   ]
  },
  {
   "cell_type": "code",
   "execution_count": 122,
   "metadata": {},
   "outputs": [
    {
     "name": "stdout",
     "output_type": "stream",
     "text": [
      "seen= [[0]\n",
      " [5]\n",
      " [0]]\n",
      "seen= [0 5 0]\n",
      "box= [2 0 2]\n",
      "The hidden box box3, box 1, box3\n",
      "The ball picked: O1, O6, O1\n"
     ]
    }
   ],
   "source": [
    "seen = np.array([[0,5,0]]).T\n",
    "print('seen=',seen)\n",
    "print('seen=',seen.flatten())\n",
    "logprob, box = model.decode(seen, algorithm=\"viterbi\")\n",
    "print('box=',box)\n",
    "print(\"The hidden box\", \", \".join(map(lambda x: states[x], box)))\n",
    "print(\"The ball picked:\", \", \".join(map(lambda x: observations[x], seen.flatten())))"
   ]
  },
  {
   "cell_type": "markdown",
   "metadata": {},
   "source": [
    "# 鲍姆-韦尔奇算法 迭代"
   ]
  },
  {
   "cell_type": "code",
   "execution_count": 128,
   "metadata": {},
   "outputs": [
    {
     "name": "stdout",
     "output_type": "stream",
     "text": [
      "score= -63.92969513239088\n",
      "The ball picked: O1, O5, O1\n",
      "The hidden box box 2, box 2, box 1\n",
      "score= -62.60353028434359\n",
      "The ball picked: O1, O5, O1\n",
      "The hidden box box 2, box3, box 2\n",
      "score= -62.60375069080699\n",
      "The ball picked: O1, O5, O1\n",
      "The hidden box box3, box 1, box3\n",
      "score= -62.61783565179943\n",
      "The ball picked: O1, O5, O1\n",
      "The hidden box box 2, box 1, box 2\n",
      "score= -63.242001091573336\n",
      "The ball picked: O1, O5, O1\n",
      "The hidden box box 2, box 2, box 2\n"
     ]
    }
   ],
   "source": [
    "import numpy as np\n",
    "from hmmlearn import hmm\n",
    "\n",
    "# hidden state\n",
    "states = [\"box 1\", \"box 2\", \"box3\"]\n",
    "n_states = len(states)\n",
    "\n",
    "# observed\n",
    "observations = [\"O1\", \"O2\", \"O3\", \"O4\", \"O5\", \"O6\", \"O7\"]\n",
    "n_observations = len(observations)\n",
    "\n",
    "for i in range(0,5):\n",
    "    model2 = hmm.MultinomialHMM(n_components=n_states, n_iter=1000, tol=0.01)\n",
    "    X2 = np.array([[0,4,0,0,6],[0,4,3,0,5],[1,1,1,1,4],[5,0,0,0,3],[0,0,0,0,2],[2,0,1,0,1],[5,4,0,0,3],[5,0,0,0,5],[4,0,0,0,8]]) # Training data set, observed\n",
    "    model2.fit(X2)\n",
    "    #print ('startprob_=',model2.startprob_)\n",
    "    #print ('transmat_=',model2.transmat_)\n",
    "    #print ('emissionprob=',model2.emissionprob_)\n",
    "    print ('score=',model2.score(X2))\n",
    "\n",
    "    model = hmm.MultinomialHMM(n_components=n_states)\n",
    "    model.startprob_=model2.startprob_\n",
    "    model.transmat_=model2.transmat_\n",
    "    model.emissionprob_=model2.emissionprob_\n",
    "\n",
    "    seen = np.array([[0,4,0]]).T\n",
    "    logprob, box = model.decode(seen, algorithm=\"viterbi\")\n",
    "    print(\"The ball picked:\", \", \".join(map(lambda x: observations[x], seen.flatten())))\n",
    "    print(\"The hidden box\", \", \".join(map(lambda x: states[x], box)))"
   ]
  },
  {
   "cell_type": "markdown",
   "metadata": {},
   "source": [
    "# Split video"
   ]
  },
  {
   "cell_type": "code",
   "execution_count": 6,
   "metadata": {},
   "outputs": [
    {
     "name": "stdout",
     "output_type": "stream",
     "text": [
      "Creating: frame0.jpg\n",
      "Creating: frame1.jpg\n",
      "Creating: frame2.jpg\n",
      "Creating: frame3.jpg\n",
      "Creating: frame4.jpg\n",
      "Creating: frame5.jpg\n",
      "Creating: frame6.jpg\n",
      "Creating: frame7.jpg\n",
      "Creating: frame8.jpg\n",
      "Creating: frame9.jpg\n",
      "Creating: frame10.jpg\n",
      "Creating: frame11.jpg\n",
      "Creating: frame12.jpg\n",
      "Creating: frame13.jpg\n",
      "Creating: frame14.jpg\n",
      "Creating: frame15.jpg\n",
      "Creating: frame16.jpg\n",
      "Creating: frame17.jpg\n",
      "Creating: frame18.jpg\n",
      "Creating: frame19.jpg\n",
      "Creating: frame20.jpg\n",
      "Creating: frame21.jpg\n",
      "Creating: frame22.jpg\n",
      "Creating: frame23.jpg\n",
      "Creating: frame24.jpg\n",
      "Creating: frame25.jpg\n",
      "Creating: frame26.jpg\n",
      "Creating: frame27.jpg\n",
      "Creating: frame28.jpg\n",
      "Creating: frame29.jpg\n",
      "done\n"
     ]
    }
   ],
   "source": [
    "import cv2\n",
    "import numpy as np\n",
    "import os\n",
    "\n",
    "\n",
    "#get file path for desired video and where to save frames locally\n",
    "cap = cv2.VideoCapture('D:/games/study recording/17083046d_video_assignment_first.mp4')\n",
    "path_to_save = 'D:/comic/comic/fss/save'\n",
    "\n",
    "current_frame = 0\n",
    "\n",
    "while(True):\n",
    "\n",
    "    #capture each frame\n",
    "    ret, frame = cap.read()\n",
    "\n",
    "    # optional\n",
    "    gray = cv2.cvtColor(frame, cv2.COLOR_BGR2GRAY)\n",
    "    \n",
    "    # Save frame as a jpg file\n",
    "    name = 'frame' + str(current_frame) + '.jpg'\n",
    "    \n",
    "    print ('Creating: ' + name)\n",
    "    # cv2.imshow(frame)\n",
    "    cv2.imwrite(os.path.join(path_to_save, name), frame)\n",
    "    \n",
    "    #keep track of how many images you end up with\n",
    "    current_frame += 1\n",
    "    \n",
    "    # limit the frame number\n",
    "    if current_frame == 30:\n",
    "        break\n",
    "    \n",
    "    #stop loop when video ends\n",
    "    if not ret:\n",
    "        break\n",
    "\n",
    "\n",
    "#release capture \n",
    "cap.release()\n",
    "cv2.destroyAllWindows()\n",
    "\n",
    "print('done')"
   ]
  },
  {
   "cell_type": "code",
   "execution_count": null,
   "metadata": {},
   "outputs": [],
   "source": [
    "import numpy as np\n",
    "import cv2\n",
    "\n",
    "cap = cv2.VideoCapture(0)\n",
    "\n",
    "while(True):\n",
    "    # Capture frame-by-frame\n",
    "    ret, frame = cap.read()\n",
    "\n",
    "    # Our operations on the frame come here\n",
    "    gray = cv2.cvtColor(frame, cv2.COLOR_BGR2GRAY)\n",
    "\n",
    "    # Display the resulting frame\n",
    "    cv2.imshow('frame',gray)\n",
    "    if cv2.waitKey(1) & 0xFF == ord('q'):\n",
    "        break\n",
    "\n",
    "# When everything done, release the capture\n",
    "cap.release()\n",
    "cv2.destroyAllWindows()"
   ]
  },
  {
   "cell_type": "markdown",
   "metadata": {},
   "source": [
    "# Extract sequence from image"
   ]
  },
  {
   "cell_type": "markdown",
   "metadata": {},
   "source": [
    "## If extraction complete start from here each time"
   ]
  },
  {
   "cell_type": "code",
   "execution_count": 11,
   "metadata": {},
   "outputs": [
    {
     "name": "stdout",
     "output_type": "stream",
     "text": [
      "[[[1. 1.]\n",
      "  [1. 1.]]\n",
      "\n",
      " [[0. 0.]\n",
      "  [0. 0.]]\n",
      "\n",
      " [[0. 0.]\n",
      "  [0. 0.]]\n",
      "\n",
      " [[0. 0.]\n",
      "  [0. 0.]]\n",
      "\n",
      " [[0. 0.]\n",
      "  [0. 0.]]\n",
      "\n",
      " [[0. 0.]\n",
      "  [0. 0.]]\n",
      "\n",
      " [[0. 0.]\n",
      "  [0. 0.]]\n",
      "\n",
      " [[0. 0.]\n",
      "  [0. 0.]]\n",
      "\n",
      " [[0. 0.]\n",
      "  [0. 0.]]\n",
      "\n",
      " [[0. 0.]\n",
      "  [0. 0.]]\n",
      "\n",
      " [[0. 0.]\n",
      "  [0. 0.]]\n",
      "\n",
      " [[0. 0.]\n",
      "  [0. 0.]]\n",
      "\n",
      " [[0. 0.]\n",
      "  [0. 0.]]]\n"
     ]
    }
   ],
   "source": [
    "test = np.array([[1,1],[1,1]])\n",
    "data = np.zeros((13,2,2))\n",
    "data[0] = test\n",
    "print(data)"
   ]
  },
  {
   "cell_type": "code",
   "execution_count": 13,
   "metadata": {},
   "outputs": [
    {
     "data": {
      "image/png": "[encoded data removed]",
      "text/plain": [
       "<Figure size 720x720 with 13 Axes>"
      ]
     },
     "metadata": {
      "needs_background": "light"
     },
     "output_type": "display_data"
    }
   ],
   "source": [
    "import cv2\n",
    "import sys\n",
    "import os\n",
    "import numpy as np\n",
    "np.set_printoptions(threshold=10000)\n",
    "import matplotlib.pyplot as plt\n",
    "def my_show_gray(img):\n",
    "    plt.imshow(img,cmap='gray')\n",
    "plt.figure(figsize=(10,10))\n",
    "path_to_save = 'D:/comic/comic/fss/save'\n",
    "data = np.zeros((13,1080,1920))\n",
    "for current_frame in range(0,13):\n",
    "    name = 'frame' + str(current_frame) + '.jpg'\n",
    "    img = cv2.imread(os.path.join(path_to_save, name),0)\n",
    "    plt.subplot(6,3,current_frame+1)\n",
    "    my_show_gray(img)\n",
    "    data[current_frame] = img\n",
    "# my_show_gray(data[3])\n",
    "    "
   ]
  },
  {
   "cell_type": "code",
   "execution_count": 14,
   "metadata": {},
   "outputs": [
    {
     "data": {
      "image/png": "[encoded data removed]",
      "text/plain": [
       "<Figure size 432x288 with 1 Axes>"
      ]
     },
     "metadata": {
      "needs_background": "light"
     },
     "output_type": "display_data"
    }
   ],
   "source": [
    "# Check data sequence\n",
    "my_show_gray(data[3])"
   ]
  },
  {
   "cell_type": "code",
   "execution_count": 60,
   "metadata": {},
   "outputs": [
    {
     "name": "stdout",
     "output_type": "stream",
     "text": [
      "a.shape= (4, 2, 3)\n",
      "a.T.shape= (3, 2, 4)\n",
      "a= [[[11 12 13]\n",
      "  [14 15 16]]\n",
      "\n",
      " [[21 22 23]\n",
      "  [24 25 26]]\n",
      "\n",
      " [[31 32 33]\n",
      "  [34 35 36]]\n",
      "\n",
      " [[41 42 43]\n",
      "  [44 45 46]]]\n",
      "a[0]= [[11 12 13]\n",
      " [14 15 16]]\n",
      "a[0][0]= [11 21 31 41]\n",
      "a[1][0]= [12 22 32 42]\n",
      "a[2][0]= [13 23 33 43]\n",
      "a[0][1]= [14 24 34 44]\n",
      "a[1][1]= [15 25 35 45]\n",
      "a[2][1]= [16 26 36 46]\n",
      "[11 21 31 41]\n",
      "[12 22 32 42]\n",
      "[13 23 33 43]\n",
      "[14 24 34 44]\n",
      "[15 25 35 45]\n",
      "[16 26 36 46]\n",
      "[[11 12 13 14 15 16]\n",
      " [21 22 23 24 25 26]\n",
      " [31 32 33 34 35 36]\n",
      " [41 42 43 44 45 46]]\n",
      "np.delete(obs,0,0)= [[11 12 13 15 16]\n",
      " [21 22 23 25 26]\n",
      " [31 32 33 35 36]\n",
      " [41 42 43 45 46]]\n",
      "[[ 0  0  0  0  0  0]\n",
      " [ 1  1  1  1  1  1]\n",
      " [ 2  2  2  2  2  2]\n",
      " [41 42 43 44 45 46]]\n"
     ]
    }
   ],
   "source": [
    "# A simulation of array manipulation: extract pixel value of the same position of the image from 13 consecutive frame\n",
    "import cv2\n",
    "import sys\n",
    "import numpy as np\n",
    "a = np.array([[[11,12,13],[14,15,16]],[[21,22,23],[24,25,26]],[[31,32,33],[34,35,36]],[[41,42,43],[44,45,46]]])\n",
    "print('a.shape=',a.shape)\n",
    "print('a.T.shape=',a.T.shape)\n",
    "print('a=',a)\n",
    "print('a[0]=',a[0])\n",
    "print('a[0][0]=',a.T[0][0])\n",
    "print('a[1][0]=',a.T[1][0])\n",
    "print('a[2][0]=',a.T[2][0])\n",
    "print('a[0][1]=',a.T[0][1])\n",
    "print('a[1][1]=',a.T[1][1])\n",
    "print('a[2][1]=',a.T[2][1])\n",
    "aT = a.T\n",
    "obs = np.zeros((4,2*3))\n",
    "for i in range(0,2):\n",
    "    for j in range(0,3):\n",
    "        print(aT[j][i].T)\n",
    "        obs[:,3*i+j] = aT[j][i]\n",
    "obs=obs.astype(int)\n",
    "print(obs)\n",
    "print('np.delete(obs,0,0)=',np.delete(obs,3,1))\n",
    "obs[obs<21]=0\n",
    "obs[(obs>=21)&(obs<31)]=1\n",
    "obs[(obs>=31)&(obs<41)]=2\n",
    "obs[(obs>=41)&(obs<41)]=3\n",
    "print(obs)"
   ]
  },
  {
   "cell_type": "code",
   "execution_count": 61,
   "metadata": {},
   "outputs": [
    {
     "name": "stdout",
     "output_type": "stream",
     "text": [
      "[[0. 0. 0. ... 0. 0. 0.]\n",
      " [0. 0. 0. ... 0. 0. 0.]\n",
      " [0. 0. 0. ... 0. 0. 0.]\n",
      " ...\n",
      " [0. 0. 0. ... 0. 0. 0.]\n",
      " [0. 0. 0. ... 0. 0. 0.]\n",
      " [0. 0. 0. ... 0. 0. 0.]]\n",
      "(13, 2073600)\n"
     ]
    }
   ],
   "source": [
    "observation = np.zeros((13,1920*1080))\n",
    "print(observation)\n",
    "dataT=data.T\n",
    "for i in range(0,1080):\n",
    "    for j in range(0,1920):\n",
    "        observation[:,1920*i+j] = dataT[j][i]\n",
    "        #if (dataT[j][i][0] != 0):\n",
    "        #print(dataT[j][i])\n",
    "# Check the observation sequence of 'observation'\n",
    "'''\n",
    "for i in range(0,1080):\n",
    "    for j in range(0,1920):\n",
    "        if (observation[0,1920*i+j] != 0):\n",
    "            print('i+j=',1920*i+j,'ob=',observation[:,1920*i+j])\n",
    "'''\n",
    "print(observation.shape)"
   ]
  },
  {
   "cell_type": "markdown",
   "metadata": {},
   "source": [
    "# Classify the intensity value into 7 observations"
   ]
  },
  {
   "cell_type": "code",
   "execution_count": 62,
   "metadata": {},
   "outputs": [
    {
     "name": "stdout",
     "output_type": "stream",
     "text": [
      "(13, 2073600)\n"
     ]
    },
    {
     "data": {
      "text/plain": [
       "\"\\nfor i in range(0,1080):\\n    for j in range(0,1920):\\n        if (observationC[0,1920*i+j] == 3):\\n            print('i+j=',1920*i+j,'ob=',observationC[:,1920*i+j])\\n\""
      ]
     },
     "execution_count": 62,
     "metadata": {},
     "output_type": "execute_result"
    }
   ],
   "source": [
    "observationC=np.zeros((13, 2073600))\n",
    "print(observationC.shape)\n",
    "observationC[observation<36]=int(0)\n",
    "observationC[(observation>=36)&(observation<73)]=int(1)\n",
    "observationC[(observation>=73)&(observation<109)]=int(2)\n",
    "observationC[(observation>=109)&(observation<146)]=int(3)\n",
    "observationC[(observation>=146)&(observation<182)]=int(4)\n",
    "observationC[(observation>=182)&(observation<219)]=int(5)\n",
    "observationC[(observation>=219)&(observation<256)]=int(6)\n",
    "observationC=observationC.astype(int)\n",
    "'''\n",
    "for i in range(0,7):\n",
    "    if (i == 0):\n",
    "        observation[(observation<256*(i+1)/7-1)]=i\n",
    "    else:\n",
    "        observation[(observation>=256*(i)/7-1)&(observation<255*(i+1)/7-1)]=i\n",
    "print(observation)\n",
    "'''\n",
    "# Check the observation sequence of 'observation'\n",
    "'''\n",
    "for i in range(0,1080):\n",
    "    for j in range(0,1920):\n",
    "        if (observationC[0,1920*i+j] == 3):\n",
    "            print('i+j=',1920*i+j,'ob=',observationC[:,1920*i+j])\n",
    "'''\n",
    "# line 46139 should be state 4\n",
    "#print(observationC[:,46139])"
   ]
  },
  {
   "cell_type": "markdown",
   "metadata": {},
   "source": [
    "# Train process"
   ]
  },
  {
   "cell_type": "code",
   "execution_count": 65,
   "metadata": {},
   "outputs": [
    {
     "name": "stderr",
     "output_type": "stream",
     "text": [
      "Fitting a model with 49 free scalar parameters with only 36 data points will result in a degenerate solution.\n"
     ]
    },
    {
     "name": "stdout",
     "output_type": "stream",
     "text": [
      "startprob_= [4.93120453e-081 6.93404125e-174 6.56969115e-042 2.01890739e-030\n",
      " 1.00000000e+000]\n",
      "transmat_= [[1.08022758e-062 2.07362433e-093 4.44295177e-053 3.33739333e-001\n",
      "  6.66260667e-001]\n",
      " [2.00000040e-001 6.00000103e-001 1.99999857e-001 8.82331360e-123\n",
      "  5.23042433e-101]\n",
      " [4.23200929e-001 1.95997223e-001 3.80777437e-001 4.59098691e-015\n",
      "  2.44104267e-005]\n",
      " [3.11183858e-036 1.08670620e-025 7.74010693e-001 2.29628821e-013\n",
      "  2.25989307e-001]\n",
      " [1.86371550e-015 5.57133152e-002 8.61873186e-005 1.03808879e-001\n",
      "  8.40391618e-001]]\n",
      "emissionprob= [[7.21549830e-008 3.43262478e-125 2.19670640e-044 0.00000000e+000\n",
      "  1.34508754e-023 9.99999928e-001]\n",
      " [7.73208059e-008 9.99999923e-001 1.40290201e-027 0.00000000e+000\n",
      "  4.33307334e-054 2.72672063e-068]\n",
      " [9.99999739e-001 2.61289161e-007 1.32470551e-025 0.00000000e+000\n",
      "  1.69058114e-047 1.84843846e-064]\n",
      " [2.30566587e-003 2.57816194e-018 3.33124479e-001 0.00000000e+000\n",
      "  6.64569855e-001 4.22749971e-025]\n",
      " [9.99746375e-001 1.28481634e-032 1.41791899e-016 0.00000000e+000\n",
      "  2.53624905e-004 8.47809372e-019]]\n",
      "score= -24.64764527334009\n",
      "--- 0.5944554805755615 seconds ---\n"
     ]
    }
   ],
   "source": [
    "import numpy as np\n",
    "from hmmlearn import hmm\n",
    "\n",
    "# hidden state\n",
    "states = [\"state 1\", \"state 2\", \"state 3\", \"state 4\", \"state 5\"]\n",
    "n_states = len(states)\n",
    "\n",
    "# observed\n",
    "observations = [\"O1\", \"O2\", \"O3\", \"O4\", \"O5\", \"O6\", \"O7\"]\n",
    "n_observations = len(observations)\n",
    "\n",
    "# Time count\n",
    "import time\n",
    "start_time = time.time()\n",
    "\n",
    "#Train\n",
    "model2 = hmm.MultinomialHMM(n_components=n_states, n_iter=1000, tol=0.01)\n",
    "#X2 = np.array([[0,0,0,0],[0,0,0,0],[1,1,1,1],[5,0,0,0],[0,0,0,0],[2,0,1,0],[5,4,0,0],[5,0,0,0],[4,0,0,0]]) \n",
    "# Training data set, observed\n",
    "model2.fit(observationC)\n",
    "#model2.fit(X2)\n",
    "print ('startprob_=',model2.startprob_)\n",
    "print ('transmat_=',model2.transmat_)\n",
    "print ('emissionprob=',model2.emissionprob_)\n",
    "print ('score=',model2.score(X2))\n",
    "\n",
    "# Time end\n",
    "print(\"--- %s seconds ---\" % (time.time() - start_time))"
   ]
  },
  {
   "cell_type": "markdown",
   "metadata": {},
   "source": [
    "# Leave one out process"
   ]
  },
  {
   "cell_type": "code",
   "execution_count": null,
   "metadata": {},
   "outputs": [],
   "source": [
    "for i in range(0,13):\n",
    "    "
   ]
  }
 ],
 "metadata": {
  "kernelspec": {
   "display_name": "Python 3",
   "language": "python",
   "name": "python3"
  },
  "language_info": {
   "codemirror_mode": {
    "name": "ipython",
    "version": 3
   },
   "file_extension": ".py",
   "mimetype": "text/x-python",
   "name": "python",
   "nbconvert_exporter": "python",
   "pygments_lexer": "ipython3",
   "version": "3.7.5"
  }
 },
 "nbformat": 4,
 "nbformat_minor": 4
}
